{
 "cells": [
  {
   "cell_type": "markdown",
   "metadata": {},
   "source": [
    "# Basis function test"
   ]
  },
  {
   "cell_type": "code",
   "execution_count": 1,
   "metadata": {},
   "outputs": [],
   "source": [
    "import sys\n",
    "sys.path.append('../rt_erg_lib/')\n",
    "import autograd.numpy as np\n",
    "import autograd.numpy.random as npr\n",
    "from autograd import jacobian\n",
    "\n",
    "from basis import Basis\n",
    "from gym.spaces import Box\n",
    "\n",
    "from utils import convert_traj2ck"
   ]
  },
  {
   "cell_type": "code",
   "execution_count": 2,
   "metadata": {},
   "outputs": [
    {
     "name": "stderr",
     "output_type": "stream",
     "text": [
      "/home/msun/.local/lib/python3.8/site-packages/gym/logger.py:30: UserWarning: \u001b[33mWARN: Box bound precision lowered by casting to float32\u001b[0m\n",
      "  warnings.warn(colorize('%s: %s'%('WARN', msg % args), 'yellow'))\n"
     ]
    }
   ],
   "source": [
    "explr_space = Box(np.array([0., 0.]), np.array([1.0, 1.0]), dtype=np.float32)\n",
    "basis = Basis(explr_space=explr_space, num_basis=4)\n",
    "\n",
    "xt = [explr_space.sample() for _ in range(10)]"
   ]
  },
  {
   "cell_type": "code",
   "execution_count": 3,
   "metadata": {},
   "outputs": [
    {
     "data": {
      "text/plain": [
       "array([[0, 0],\n",
       "       [1, 0],\n",
       "       [2, 0],\n",
       "       [3, 0],\n",
       "       [0, 1],\n",
       "       [1, 1],\n",
       "       [2, 1],\n",
       "       [3, 1],\n",
       "       [0, 2],\n",
       "       [1, 2],\n",
       "       [2, 2],\n",
       "       [3, 2],\n",
       "       [0, 3],\n",
       "       [1, 3],\n",
       "       [2, 3],\n",
       "       [3, 3]])"
      ]
     },
     "execution_count": 3,
     "metadata": {},
     "output_type": "execute_result"
    }
   ],
   "source": [
    "basis.k"
   ]
  },
  {
   "cell_type": "code",
   "execution_count": 4,
   "metadata": {},
   "outputs": [
    {
     "data": {
      "text/plain": [
       "array([ 1.        , -0.22531618, -0.89846524,  0.63019369,  0.88488131,\n",
       "       -0.19937807, -0.7950351 ,  0.55764661,  0.56602986, -0.12753568,\n",
       "       -0.50855815,  0.35670844,  0.11685718, -0.02632981, -0.10499211,\n",
       "        0.07364265])"
      ]
     },
     "execution_count": 4,
     "metadata": {},
     "output_type": "execute_result"
    }
   ],
   "source": [
    "basis.fk(xt[0])"
   ]
  },
  {
   "cell_type": "code",
   "execution_count": 5,
   "metadata": {},
   "outputs": [
    {
     "data": {
      "text/plain": [
       "array([[ 0.        ,  0.        ],\n",
       "       [-3.0608088 , -0.        ],\n",
       "       [ 2.75859876, -0.        ],\n",
       "       [ 7.31775574,  0.        ],\n",
       "       [ 0.        , -1.4634059 ],\n",
       "       [-2.70845249,  0.329729  ],\n",
       "       [ 2.44103248,  1.31481935],\n",
       "       [ 6.47534527, -0.9222291 ],\n",
       "       [ 0.        , -5.17976209],\n",
       "       [-1.73250917,  1.16708411],\n",
       "       [ 1.56144926,  4.65383627],\n",
       "       [ 4.14206824, -3.26425316],\n",
       "       [ 0.        , -9.36020627],\n",
       "       [-0.35767746,  2.10900575],\n",
       "       [ 0.32236205,  8.40982011],\n",
       "       [ 0.85513224, -5.89874253]])"
      ]
     },
     "execution_count": 5,
     "metadata": {},
     "output_type": "execute_result"
    }
   ],
   "source": [
    "basis.dfk(xt[0])"
   ]
  },
  {
   "cell_type": "code",
   "execution_count": 6,
   "metadata": {},
   "outputs": [],
   "source": [
    "k = basis.k[6]\n"
   ]
  },
  {
   "cell_type": "code",
   "execution_count": 7,
   "metadata": {},
   "outputs": [
    {
     "data": {
      "text/plain": [
       "78.95683520871486"
      ]
     },
     "execution_count": 7,
     "metadata": {},
     "output_type": "execute_result"
    }
   ],
   "source": [
    "np.prod(basis.dl * (2.0 * k * np.pi + np.sin(2.0 * k *np.pi)))"
   ]
  },
  {
   "cell_type": "code",
   "execution_count": 8,
   "metadata": {},
   "outputs": [
    {
     "data": {
      "text/plain": [
       "315.82734083485946"
      ]
     },
     "execution_count": 8,
     "metadata": {},
     "output_type": "execute_result"
    }
   ],
   "source": [
    "(16 * np.prod(k)*np.pi**2)"
   ]
  },
  {
   "cell_type": "code",
   "execution_count": 9,
   "metadata": {},
   "outputs": [
    {
     "data": {
      "text/plain": [
       "array([1.  , 1.  , 1.  , 1.  , 1.  , 0.25, 0.25, 0.25, 1.  , 0.25, 0.25,\n",
       "       0.25, 1.  , 0.25, 0.25, 0.25])"
      ]
     },
     "execution_count": 9,
     "metadata": {},
     "output_type": "execute_result"
    }
   ],
   "source": [
    "basis.hk"
   ]
  },
  {
   "cell_type": "markdown",
   "metadata": {},
   "source": [
    "## This is how you would compute the cks"
   ]
  },
  {
   "cell_type": "code",
   "execution_count": 10,
   "metadata": {},
   "outputs": [
    {
     "data": {
      "text/plain": [
       "array([ 1.        ,  0.12985227, -0.18824958,  0.25519838, -0.00499636,\n",
       "        0.07531183,  0.11088775,  0.32260638,  0.14903196,  0.20095001,\n",
       "        0.2134231 , -0.01656439,  0.25661551,  0.17428667, -0.03947917,\n",
       "       -0.04559251])"
      ]
     },
     "execution_count": 10,
     "metadata": {},
     "output_type": "execute_result"
    }
   ],
   "source": [
    "convert_traj2ck(basis, xt)"
   ]
  },
  {
   "cell_type": "markdown",
   "metadata": {},
   "source": [
    "# Barrier Function Test"
   ]
  },
  {
   "cell_type": "code",
   "execution_count": 11,
   "metadata": {},
   "outputs": [],
   "source": [
    "import autograd.numpy as np\n",
    "from barrier import Barrier\n",
    "from gym.spaces import Box"
   ]
  },
  {
   "cell_type": "code",
   "execution_count": 12,
   "metadata": {},
   "outputs": [],
   "source": [
    "explr_space = Box(np.array([0., 0.]), np.array([1.0, 1.0]), dtype=np.float32)\n",
    "barrier = Barrier(explr_space)"
   ]
  },
  {
   "cell_type": "code",
   "execution_count": 13,
   "metadata": {},
   "outputs": [
    {
     "data": {
      "text/plain": [
       "142.43595600128174"
      ]
     },
     "execution_count": 13,
     "metadata": {},
     "output_type": "execute_result"
    }
   ],
   "source": [
    "barrier.cost(explr_space.sample()-1)"
   ]
  },
  {
   "cell_type": "code",
   "execution_count": 14,
   "metadata": {},
   "outputs": [
    {
     "data": {
      "text/plain": [
       "array([-152.25704908, -148.90253544])"
      ]
     },
     "execution_count": 14,
     "metadata": {},
     "output_type": "execute_result"
    }
   ],
   "source": [
    "barrier.dx(explr_space.sample()-1)"
   ]
  },
  {
   "cell_type": "markdown",
   "metadata": {},
   "source": [
    "# Target Distribution test"
   ]
  },
  {
   "cell_type": "code",
   "execution_count": 15,
   "metadata": {},
   "outputs": [],
   "source": [
    "from target_dist import TargetDist\n",
    "from utils import convert_phi2phik, convert_phik2phi\n",
    "\n",
    "# import again for independence between cells\n",
    "import autograd.numpy as np\n",
    "from basis import Basis\n",
    "from gym.spaces import Box\n",
    "\n",
    "import matplotlib.pyplot as plt"
   ]
  },
  {
   "cell_type": "code",
   "execution_count": 16,
   "metadata": {},
   "outputs": [
    {
     "name": "stdout",
     "output_type": "stream",
     "text": [
      "means:  [[0.3 0.3]\n",
      " [0.7 0.7]]\n"
     ]
    }
   ],
   "source": [
    "t_dist = TargetDist(num_nodes=5)"
   ]
  },
  {
   "cell_type": "code",
   "execution_count": 17,
   "metadata": {},
   "outputs": [],
   "source": [
    "xy, vals = t_dist.get_grid_spec()"
   ]
  },
  {
   "cell_type": "code",
   "execution_count": 18,
   "metadata": {},
   "outputs": [
    {
     "data": {
      "text/plain": [
       "<matplotlib.contour.QuadContourSet at 0x7ff85828f220>"
      ]
     },
     "execution_count": 18,
     "metadata": {},
     "output_type": "execute_result"
    },
    {
     "data": {
      "image/png": "[encoded data removed]",
      "text/plain": [
       "<Figure size 432x288 with 1 Axes>"
      ]
     },
     "metadata": {
      "needs_background": "light"
     },
     "output_type": "display_data"
    }
   ],
   "source": [
    "plt.contourf(*xy, vals, levels=10)"
   ]
  },
  {
   "cell_type": "markdown",
   "metadata": {},
   "source": [
    "## Checking to see if the phiks can be computed from the phik class template"
   ]
  },
  {
   "cell_type": "code",
   "execution_count": 19,
   "metadata": {},
   "outputs": [
    {
     "name": "stdout",
     "output_type": "stream",
     "text": [
      "[ 1.00000000e+00  7.34039281e-17 -2.54807273e-01  2.74597494e-19\n",
      " -3.68471761e-01 -1.85783495e-16  1.36385912e-01  1.14766082e-17\n",
      "  1.26585564e-02  8.18742576e-17  4.89243583e-17  3.12567298e-01\n",
      "  5.28297096e-17 -3.41833316e-01 -1.34651081e-16 -4.06392783e-04\n",
      " -4.91913855e-17  4.71002848e-02  6.98998058e-18 -6.26968106e-03\n",
      " -2.54807273e-01  1.45449163e-16  6.49267463e-02 -1.28528621e-16\n",
      "  9.38892845e-02  4.39589453e-17 -3.47521224e-02  9.33530893e-18\n",
      " -3.22549222e-03 -2.30765127e-17  2.39527100e-16 -3.41833316e-01\n",
      " -1.44861004e-16  3.73839544e-01  3.85574692e-18  4.44443785e-04\n",
      "  9.58477602e-17 -5.15103361e-02  1.86611946e-19  6.85671816e-03\n",
      " -3.68471761e-01 -1.17253024e-16  9.38892845e-02 -1.06573527e-16\n",
      "  1.35771439e-01  7.67831661e-17 -5.02543573e-02  4.83586991e-18\n",
      " -4.66432056e-03 -2.50551816e-17 -1.33167397e-16 -4.06392783e-04\n",
      "  1.09967164e-16  4.44443785e-04  5.19401133e-17  5.28382513e-07\n",
      " -1.56895383e-17 -6.12387027e-05 -4.09699249e-19  8.15169453e-06\n",
      "  1.36385912e-01 -1.28908197e-16 -3.47521224e-02  1.37046702e-16\n",
      " -5.02543573e-02 -3.44830819e-17  1.86011171e-02 -2.87472924e-17\n",
      "  1.72644876e-03  1.02898092e-17 -1.07200755e-16  4.71002848e-02\n",
      "  2.70256979e-17 -5.15103361e-02 -5.30106570e-17 -6.12387027e-05\n",
      " -3.97317215e-17  7.09746940e-03  4.11684482e-18 -9.44768584e-04\n",
      "  1.26585564e-02  5.35088183e-17 -3.22549222e-03 -6.74880383e-17\n",
      " -4.66432056e-03  3.03031331e-18  1.72644876e-03  4.45639915e-18\n",
      "  1.60239049e-04 -4.43792325e-19  3.65644536e-17 -6.26968106e-03\n",
      " -4.46807233e-17  6.85671816e-03 -2.82908475e-17  8.15169453e-06\n",
      "  1.82730947e-17 -9.44768584e-04 -1.26350846e-18  1.25761399e-04]\n"
     ]
    },
    {
     "name": "stderr",
     "output_type": "stream",
     "text": [
      "/home/msun/.local/lib/python3.8/site-packages/gym/logger.py:30: UserWarning: \u001b[33mWARN: Box bound precision lowered by casting to float32\u001b[0m\n",
      "  warnings.warn(colorize('%s: %s'%('WARN', msg % args), 'yellow'))\n"
     ]
    }
   ],
   "source": [
    "explr_space = Box(np.array([0., 0.]), np.array([1.0, 1.0]), dtype=np.float32)\n",
    "basis = Basis(explr_space=explr_space, num_basis=10)\n",
    "\n",
    "phik = convert_phi2phik(basis, t_dist.grid_vals, t_dist.grid)\n",
    "print(phik)"
   ]
  },
  {
   "cell_type": "code",
   "execution_count": 20,
   "metadata": {},
   "outputs": [],
   "source": [
    "phi = convert_phik2phi(basis, phik, t_dist.grid)"
   ]
  },
  {
   "cell_type": "code",
   "execution_count": 21,
   "metadata": {},
   "outputs": [
    {
     "data": {
      "text/plain": [
       "<matplotlib.contour.QuadContourSet at 0x7ff857ff54f0>"
      ]
     },
     "execution_count": 21,
     "metadata": {},
     "output_type": "execute_result"
    },
    {
     "data": {
      "image/png": "[encoded data removed]",
      "text/plain": [
       "<Figure size 432x288 with 1 Axes>"
      ]
     },
     "metadata": {
      "needs_background": "light"
     },
     "output_type": "display_data"
    }
   ],
   "source": [
    "plt.contourf(phi.reshape(50,50))"
   ]
  },
  {
   "cell_type": "code",
   "execution_count": 22,
   "metadata": {},
   "outputs": [
    {
     "data": {
      "text/plain": [
       "0.2760309613557555"
      ]
     },
     "execution_count": 22,
     "metadata": {},
     "output_type": "execute_result"
    }
   ],
   "source": [
    "np.min(phi)"
   ]
  },
  {
   "cell_type": "markdown",
   "metadata": {},
   "source": [
    "# Testing the ergodic controller "
   ]
  },
  {
   "cell_type": "code",
   "execution_count": 23,
   "metadata": {},
   "outputs": [],
   "source": [
    "from single_integrator import SingleIntegrator\n",
    "from ergodic_control import RTErgodicControl\n",
    "from target_dist import TargetDist\n",
    "from utils import convert_phi2phik, convert_ck2dist, convert_traj2ck, convert_phik2phi\n",
    "import autograd.numpy as np\n",
    "\n",
    "from agent_base import Agent\n",
    "\n",
    "import matplotlib.pyplot as plt"
   ]
  },
  {
   "cell_type": "code",
   "execution_count": 25,
   "metadata": {},
   "outputs": [
    {
     "name": "stdout",
     "output_type": "stream",
     "text": [
      "2\n",
      "2\n",
      "means:  [[0.3 0.3]\n",
      " [0.7 0.7]]\n"
     ]
    },
    {
     "name": "stderr",
     "output_type": "stream",
     "text": [
      "/home/msun/.local/lib/python3.8/site-packages/gym/logger.py:30: UserWarning: \u001b[33mWARN: Box bound precision lowered by casting to float32\u001b[0m\n",
      "  warnings.warn(colorize('%s: %s'%('WARN', msg % args), 'yellow'))\n"
     ]
    }
   ],
   "source": [
    "env = SingleIntegrator()\n",
    "model = SingleIntegrator()\n",
    "t_dist = TargetDist(num_nodes=2)\n",
    "erg_ctrl = RTErgodicControl(model, t_dist, horizon=15, num_basis=10, batch_size=100)\n",
    "# agent = Agent()"
   ]
  },
  {
   "cell_type": "markdown",
   "metadata": {},
   "source": [
    "Checking to make sure that the phiks are set right"
   ]
  },
  {
   "cell_type": "code",
   "execution_count": 26,
   "metadata": {},
   "outputs": [
    {
     "data": {
      "text/plain": [
       "array([ 1.00000000e+00,  7.34039281e-17, -2.54807273e-01,  2.74597494e-19,\n",
       "       -3.68471761e-01, -1.85783495e-16,  1.36385912e-01,  1.14766082e-17,\n",
       "        1.26585564e-02,  8.18742576e-17,  4.89243583e-17,  3.12567298e-01,\n",
       "        5.28297096e-17, -3.41833316e-01, -1.34651081e-16, -4.06392783e-04,\n",
       "       -4.91913855e-17,  4.71002848e-02,  6.98998058e-18, -6.26968106e-03,\n",
       "       -2.54807273e-01,  1.45449163e-16,  6.49267463e-02, -1.28528621e-16,\n",
       "        9.38892845e-02,  4.39589453e-17, -3.47521224e-02,  9.33530893e-18,\n",
       "       -3.22549222e-03, -2.30765127e-17,  2.39527100e-16, -3.41833316e-01,\n",
       "       -1.44861004e-16,  3.73839544e-01,  3.85574692e-18,  4.44443785e-04,\n",
       "        9.58477602e-17, -5.15103361e-02,  1.86611946e-19,  6.85671816e-03,\n",
       "       -3.68471761e-01, -1.17253024e-16,  9.38892845e-02, -1.06573527e-16,\n",
       "        1.35771439e-01,  7.67831661e-17, -5.02543573e-02,  4.83586991e-18,\n",
       "       -4.66432056e-03, -2.50551816e-17, -1.33167397e-16, -4.06392783e-04,\n",
       "        1.09967164e-16,  4.44443785e-04,  5.19401133e-17,  5.28382513e-07,\n",
       "       -1.56895383e-17, -6.12387027e-05, -4.09699249e-19,  8.15169453e-06,\n",
       "        1.36385912e-01, -1.28908197e-16, -3.47521224e-02,  1.37046702e-16,\n",
       "       -5.02543573e-02, -3.44830819e-17,  1.86011171e-02, -2.87472924e-17,\n",
       "        1.72644876e-03,  1.02898092e-17, -1.07200755e-16,  4.71002848e-02,\n",
       "        2.70256979e-17, -5.15103361e-02, -5.30106570e-17, -6.12387027e-05,\n",
       "       -3.97317215e-17,  7.09746940e-03,  4.11684482e-18, -9.44768584e-04,\n",
       "        1.26585564e-02,  5.35088183e-17, -3.22549222e-03, -6.74880383e-17,\n",
       "       -4.66432056e-03,  3.03031331e-18,  1.72644876e-03,  4.45639915e-18,\n",
       "        1.60239049e-04, -4.43792325e-19,  3.65644536e-17, -6.26968106e-03,\n",
       "       -4.46807233e-17,  6.85671816e-03, -2.82908475e-17,  8.15169453e-06,\n",
       "        1.82730947e-17, -9.44768584e-04, -1.26350846e-18,  1.25761399e-04])"
      ]
     },
     "execution_count": 26,
     "metadata": {},
     "output_type": "execute_result"
    }
   ],
   "source": [
    "erg_ctrl.phik = convert_phi2phik(erg_ctrl.basis, t_dist.grid_vals, t_dist.grid)\n",
    "erg_ctrl.phik"
   ]
  },
  {
   "cell_type": "code",
   "execution_count": 30,
   "metadata": {},
   "outputs": [
    {
     "name": "stdout",
     "output_type": "stream",
     "text": [
      "2\n",
      "doneee\n"
     ]
    }
   ],
   "source": [
    "log = {'trajectory' : []}\n",
    "# state = agent.reset()\n",
    "state = env.reset()\n",
    "tf = 600\n",
    "for t in range(tf):\n",
    "#     state = agent.control_step()\n",
    "    ctrl = erg_ctrl(state)\n",
    "    state = env.step(ctrl)\n",
    "    log['trajectory'].append(state)\n",
    "print('doneee')"
   ]
  },
  {
   "cell_type": "code",
   "execution_count": 32,
   "metadata": {},
   "outputs": [
    {
     "data": {
      "text/plain": [
       "<matplotlib.collections.PathCollection at 0x7ff856ff9460>"
      ]
     },
     "execution_count": 32,
     "metadata": {},
     "output_type": "execute_result"
    },
    {
     "data": {
      "image/png": "[encoded data removed]",
      "text/plain": [
       "<Figure size 432x288 with 1 Axes>"
      ]
     },
     "metadata": {
      "needs_background": "light"
     },
     "output_type": "display_data"
    }
   ],
   "source": [
    "xy, vals = t_dist.get_grid_spec()\n",
    "plt.contourf(*xy, vals, levels=10)\n",
    "xt = np.stack(log['trajectory'])\n",
    "\n",
    "tf = 400\n",
    "plt.scatter(xt[:tf,0], xt[:tf,1])"
   ]
  },
  {
   "cell_type": "markdown",
   "metadata": {},
   "source": [
    "Trajectroy statistics are reconstructed"
   ]
  },
  {
   "cell_type": "code",
   "execution_count": 33,
   "metadata": {},
   "outputs": [
    {
     "name": "stdout",
     "output_type": "stream",
     "text": [
      "--Assuming square grid\n"
     ]
    }
   ],
   "source": [
    "# path = [np.random.normal(0.2, 0.1,size=(2,)) for _ in range(50)] + [np.random.normal(0.7, 0.1,size=(2,))  for _ in range(50)]\n",
    "path = np.stack(log['trajectory'])[:tf,model.explr_idx]\n",
    "ck = convert_traj2ck(erg_ctrl.basis, path)\n",
    "val = convert_ck2dist(erg_ctrl.basis, ck)"
   ]
  },
  {
   "cell_type": "code",
   "execution_count": 34,
   "metadata": {},
   "outputs": [
    {
     "data": {
      "text/plain": [
       "<matplotlib.contour.QuadContourSet at 0x7ff856f1ea00>"
      ]
     },
     "execution_count": 34,
     "metadata": {},
     "output_type": "execute_result"
    },
    {
     "data": {
      "image/png": "[encoded data removed]",
      "text/plain": [
       "<Figure size 432x288 with 1 Axes>"
      ]
     },
     "metadata": {
      "needs_background": "light"
     },
     "output_type": "display_data"
    }
   ],
   "source": [
    "plt.contourf(*xy, val.reshape(50,50), levels=10)"
   ]
  },
  {
   "cell_type": "markdown",
   "metadata": {},
   "source": [
    "Testing the $\\phi_k$ reconstruction"
   ]
  },
  {
   "cell_type": "code",
   "execution_count": 35,
   "metadata": {},
   "outputs": [],
   "source": [
    "phi = convert_phik2phi(erg_ctrl.basis, erg_ctrl.phik, t_dist.grid)"
   ]
  },
  {
   "cell_type": "code",
   "execution_count": 36,
   "metadata": {},
   "outputs": [
    {
     "data": {
      "text/plain": [
       "<matplotlib.contour.QuadContourSet at 0x7ff856cd2250>"
      ]
     },
     "execution_count": 36,
     "metadata": {},
     "output_type": "execute_result"
    },
    {
     "data": {
      "image/png": "[encoded data removed]",
      "text/plain": [
       "<Figure size 432x288 with 1 Axes>"
      ]
     },
     "metadata": {
      "needs_background": "light"
     },
     "output_type": "display_data"
    }
   ],
   "source": [
    "plt.contourf(*xy, phi.reshape(50,50), levels=10)"
   ]
  },
  {
   "cell_type": "markdown",
   "metadata": {},
   "source": [
    "### In case you want to profile"
   ]
  },
  {
   "cell_type": "code",
   "execution_count": 31,
   "metadata": {},
   "outputs": [
    {
     "name": "stdout",
     "output_type": "stream",
     "text": [
      "2.05 ms ± 32.6 µs per loop (mean ± std. dev. of 7 runs, 100 loops each)\n"
     ]
    }
   ],
   "source": [
    "%timeit erg_ctrl(state)"
   ]
  },
  {
   "cell_type": "code",
   "execution_count": null,
   "metadata": {},
   "outputs": [],
   "source": []
  }
 ],
 "metadata": {
  "kernelspec": {
   "display_name": "Python 3",
   "language": "python",
   "name": "python3"
  },
  "language_info": {
   "codemirror_mode": {
    "name": "ipython",
    "version": 3
   },
   "file_extension": ".py",
   "mimetype": "text/x-python",
   "name": "python",
   "nbconvert_exporter": "python",
   "pygments_lexer": "ipython3",
   "version": "3.8.5"
  }
 },
 "nbformat": 4,
 "nbformat_minor": 4
}
